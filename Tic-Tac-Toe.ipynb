{
 "cells": [
  {
   "cell_type": "code",
   "execution_count": 39,
   "id": "d7fe1f39",
   "metadata": {},
   "outputs": [],
   "source": [
    "#Function to take in a player input and assign their marker as 'X' or 'O'\n",
    "def player_input():\n",
    "    marker=''\n",
    "    while marker!='X' and marker!='O':\n",
    "        marker=input(\"Do you want to be X or O: \")\n",
    "    player1=marker\n",
    "    if player1=='X':\n",
    "        player2='O'\n",
    "    else:\n",
    "        player2='X'\n",
    "    return(player1,player2)\n"
   ]
  },
  {
   "cell_type": "code",
   "execution_count": null,
   "id": "45e4cb0a",
   "metadata": {},
   "outputs": [],
   "source": []
  },
  {
   "cell_type": "code",
   "execution_count": 37,
   "id": "1cb029ea",
   "metadata": {},
   "outputs": [],
   "source": [
    "\n",
    "test_board = ['#',' ',' ',' ',' ',' ',' ',' ',' ',' ']\n",
    "from IPython.display import clear_output\n",
    "\n",
    "#Function that can print out a board. \n",
    "#Set up your board as a list, where each index 1-9 corresponds with a number on a number pad to get a 3 by 3 board representation.\n",
    "\n",
    "def display_board(board):\n",
    "    clear_output()\n",
    "    print(board[1]+' | '+ board[2]+' | '+ board[3])\n",
    "    print(\"--+---+--\")\n",
    "    print(board[4]+' | '+ board[5]+' | '+ board[6])\n",
    "    print(\"--+---+--\")\n",
    "    print(board[7]+' | '+ board[8]+' | '+ board[9])\n",
    "\n"
   ]
  },
  {
   "cell_type": "code",
   "execution_count": 38,
   "id": "3173756e",
   "metadata": {},
   "outputs": [
    {
     "name": "stdout",
     "output_type": "stream",
     "text": [
      "  |   |  \n",
      "--+---+--\n",
      "  |   |  \n",
      "--+---+--\n",
      "  |   |  \n"
     ]
    }
   ],
   "source": [
    "display_board(test_board)"
   ]
  },
  {
   "cell_type": "code",
   "execution_count": null,
   "id": "252c191f",
   "metadata": {},
   "outputs": [],
   "source": []
  },
  {
   "cell_type": "code",
   "execution_count": 5,
   "id": "7240a896",
   "metadata": {},
   "outputs": [],
   "source": [
    "#Function that takes in the board list object, a marker ('X' or 'O'), and a desired position (number 1-9) and assigns it to the board.\n",
    "def place_marker(board,marker,position):\n",
    "    board[position]=marker\n",
    "    \n",
    "    "
   ]
  },
  {
   "cell_type": "code",
   "execution_count": 6,
   "id": "609fe29f",
   "metadata": {},
   "outputs": [
    {
     "name": "stdout",
     "output_type": "stream",
     "text": [
      "  |   | X\n",
      "----------\n",
      "  |   |  \n",
      "----------\n",
      "  |   |  \n"
     ]
    }
   ],
   "source": [
    "place_marker(test_board,'X',3)\n",
    "display_board(test_board)\n"
   ]
  },
  {
   "cell_type": "code",
   "execution_count": 7,
   "id": "a8aaf388",
   "metadata": {},
   "outputs": [],
   "source": [
    "#function that takes in a board and checks to see if someone has won.\n",
    "\n",
    "def win_board(board,mark):\n",
    "    return ((board[1]==board[2]==board[3]==mark) or (board[4]==board[5]==board[6]==mark) or (board[7]==board[8]==board[9]==mark)\n",
    "            or (board[1]==board[4]==board[7]==mark) or (board[2]==board[5]==board[8]==mark) or (board[3]==board[6]==board[9]==mark)\n",
    "            or (board[1]==board[5]==board[9]==mark) or (board[3]==board[5]==board[7]==mark))\n"
   ]
  },
  {
   "cell_type": "code",
   "execution_count": 8,
   "id": "89328766",
   "metadata": {},
   "outputs": [
    {
     "data": {
      "text/plain": [
       "False"
      ]
     },
     "execution_count": 8,
     "metadata": {},
     "output_type": "execute_result"
    }
   ],
   "source": [
    "win_board(test_board,'o')"
   ]
  },
  {
   "cell_type": "code",
   "execution_count": 9,
   "id": "873cb84e",
   "metadata": {},
   "outputs": [],
   "source": [
    "#function to randomly decide which player goes first.\n",
    "\n",
    "import random\n",
    "\n",
    "def choose_first():\n",
    "    flip=random.randint(0,1)\n",
    "    if flip==0:\n",
    "        return 'Player 1'\n",
    "    else:\n",
    "        return 'Player 2'\n",
    "\n",
    "    \n",
    "    "
   ]
  },
  {
   "cell_type": "code",
   "execution_count": 10,
   "id": "343262ba",
   "metadata": {},
   "outputs": [],
   "source": [
    "#Function that returns a boolean indicating whether a space on the board is freely available.\n",
    "\n",
    "def place_check(board,position):\n",
    "    return board[position]==' '"
   ]
  },
  {
   "cell_type": "code",
   "execution_count": 11,
   "id": "bd5d959b",
   "metadata": {},
   "outputs": [
    {
     "data": {
      "text/plain": [
       "True"
      ]
     },
     "execution_count": 11,
     "metadata": {},
     "output_type": "execute_result"
    }
   ],
   "source": [
    "place_check(test_board,2)\n"
   ]
  },
  {
   "cell_type": "code",
   "execution_count": 12,
   "id": "c948663b",
   "metadata": {},
   "outputs": [],
   "source": [
    "#Function that checks if the board is full and returns a boolean value. True if full, False otherwise.\n",
    "\n",
    "def full_board_check(board):\n",
    "    for i in range(1,10):\n",
    "        if place_check(board,i):\n",
    "            return False\n",
    "    return True"
   ]
  },
  {
   "cell_type": "code",
   "execution_count": 13,
   "id": "39f7dc45",
   "metadata": {},
   "outputs": [
    {
     "data": {
      "text/plain": [
       "False"
      ]
     },
     "execution_count": 13,
     "metadata": {},
     "output_type": "execute_result"
    }
   ],
   "source": [
    "full_board_check(test_board)"
   ]
  },
  {
   "cell_type": "code",
   "execution_count": 20,
   "id": "2b730ebd",
   "metadata": {},
   "outputs": [],
   "source": [
    "#Function that asks for a player's next position (as a number 1-9). If it is a free position, returns the position for use.\n",
    "\n",
    "def player_pos(board):\n",
    "    pos = 0\n",
    "    \n",
    "    while pos not in [1,2,3,4,5,6,7,8,9] or not place_check(board, pos):\n",
    "        pos = int(input('Choose your next position: (1-9) '))\n",
    "        \n",
    "    return pos"
   ]
  },
  {
   "cell_type": "code",
   "execution_count": 22,
   "id": "863c5ec7",
   "metadata": {},
   "outputs": [
    {
     "name": "stdout",
     "output_type": "stream",
     "text": [
      "Choose your next position: (1-9) 3\n",
      "Choose your next position: (1-9) 2\n"
     ]
    },
    {
     "data": {
      "text/plain": [
       "2"
      ]
     },
     "execution_count": 22,
     "metadata": {},
     "output_type": "execute_result"
    }
   ],
   "source": [
    "player_choice(test_board)"
   ]
  },
  {
   "cell_type": "markdown",
   "id": "702b148b",
   "metadata": {},
   "source": [
    "\n"
   ]
  },
  {
   "cell_type": "code",
   "execution_count": 23,
   "id": "4380b2f4",
   "metadata": {},
   "outputs": [],
   "source": [
    "#Function that asks the player if they want to play again and returns a boolean True if they do want to play again.\n",
    "\n",
    "def replay():\n",
    "    replay_option= input('Do you want to play again? Enter Yes or No: ')\n",
    "    return replay_option=='Yes'"
   ]
  },
  {
   "cell_type": "code",
   "execution_count": null,
   "id": "3434da95",
   "metadata": {},
   "outputs": [],
   "source": []
  },
  {
   "cell_type": "code",
   "execution_count": 34,
   "id": "9b2acb25",
   "metadata": {},
   "outputs": [
    {
     "name": "stdout",
     "output_type": "stream",
     "text": [
      "Do you want to play again? Enter Yes or No: N\n"
     ]
    },
    {
     "data": {
      "text/plain": [
       "False"
      ]
     },
     "execution_count": 34,
     "metadata": {},
     "output_type": "execute_result"
    }
   ],
   "source": []
  },
  {
   "cell_type": "code",
   "execution_count": 24,
   "id": "958be625",
   "metadata": {},
   "outputs": [
    {
     "name": "stdout",
     "output_type": "stream",
     "text": [
      "X | O | X\n",
      "----------\n",
      "X | O |  \n",
      "----------\n",
      "  | O |  \n",
      "Player 1 has won\n",
      "Do you want to play again? Enter Yes or No: No\n"
     ]
    }
   ],
   "source": [
    "print(\"Welcome to Tic Tac Toe!\")\n",
    "\n",
    "while True:\n",
    "    # Reset the board\n",
    "    the_board=[' ']*10\n",
    "    \n",
    "    player1_mark,player2_mark=player_input()\n",
    "    \n",
    "    turn = choose_first()\n",
    "    print(turn + \"will go first!\")\n",
    "    play_game=input(\"Are you ready to play? (Y/N)\")\n",
    "    if play_game=='Y':\n",
    "        game_on=True\n",
    "    else:\n",
    "        game_on=False\n",
    "        \n",
    "    while game_on:\n",
    "        if turn=='Player 1':\n",
    "            # Player1's turn.\n",
    "            display_board(the_board)\n",
    "            \n",
    "            position=player_choice(the_board)\n",
    "            \n",
    "            place_marker(the_board,player1_mark,position)\n",
    "            \n",
    "            if win_board(the_board,player1_mark):\n",
    "                display_board(the_board)\n",
    "                print('Player 1 has won')\n",
    "                game_on=False\n",
    "                \n",
    "            else:\n",
    "                if full_board_check(the_board):\n",
    "                    display_board(the_board)\n",
    "                    print('Game is a tie')\n",
    "                    game_on=False\n",
    "                else:\n",
    "                    turn='Player 2'\n",
    "            \n",
    "        else:\n",
    "            # Player2's turn.\n",
    "            display_board(the_board)\n",
    "            \n",
    "            position=player_choice(the_board)\n",
    "            \n",
    "            place_marker(the_board,player2_mark,position)\n",
    "            \n",
    "            if win_board(the_board,player2_mark):\n",
    "                display_board(the_board)\n",
    "                print('Player 2 has won')\n",
    "                game_on=False\n",
    "                \n",
    "            else:\n",
    "                if full_board_check(the_board):\n",
    "                    display_board(the_board)\n",
    "                    print('Game is a tie')\n",
    "                    game_on=False\n",
    "                else:\n",
    "                    turn='Player 1'\n",
    "    \n",
    "    if not replay():\n",
    "        break"
   ]
  },
  {
   "cell_type": "markdown",
   "id": "b3b49192",
   "metadata": {},
   "source": []
  },
  {
   "cell_type": "code",
   "execution_count": null,
   "id": "8caae8d1",
   "metadata": {},
   "outputs": [],
   "source": []
  },
  {
   "cell_type": "code",
   "execution_count": null,
   "id": "d63b0af4",
   "metadata": {},
   "outputs": [],
   "source": []
  }
 ],
 "metadata": {
  "kernelspec": {
   "display_name": "Python 3 (ipykernel)",
   "language": "python",
   "name": "python3"
  },
  "language_info": {
   "codemirror_mode": {
    "name": "ipython",
    "version": 3
   },
   "file_extension": ".py",
   "mimetype": "text/x-python",
   "name": "python",
   "nbconvert_exporter": "python",
   "pygments_lexer": "ipython3",
   "version": "3.9.7"
  }
 },
 "nbformat": 4,
 "nbformat_minor": 5
}
